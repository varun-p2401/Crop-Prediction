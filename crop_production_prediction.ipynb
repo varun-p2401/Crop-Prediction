{
  "metadata": {
    "kernelspec": {
      "display_name": "Python 3",
      "language": "python",
      "name": "python3"
    },
    "language_info": {
      "name": "python",
      "version": "3.6.6",
      "mimetype": "text/x-python",
      "codemirror_mode": {
        "name": "ipython",
        "version": 3
      },
      "pygments_lexer": "ipython3",
      "nbconvert_exporter": "python",
      "file_extension": ".py"
    },
    "colab": {
      "provenance": [],
      "include_colab_link": true
    }
  },
  "nbformat_minor": 0,
  "nbformat": 4,
  "cells": [
    {
      "cell_type": "markdown",
      "metadata": {
        "id": "view-in-github",
        "colab_type": "text"
      },
      "source": [
        "<a href=\"https://colab.research.google.com/github/varun-p2401/Crop-Prediction/blob/main/crop_production_prediction.ipynb\" target=\"_parent\"><img src=\"https://colab.research.google.com/assets/colab-badge.svg\" alt=\"Open In Colab\"/></a>"
      ]
    },
    {
      "cell_type": "code",
      "source": [
        "import pandas as pd\n",
        "import matplotlib.pyplot as plt\n",
        "import seaborn as sns\n",
        "import numpy as np"
      ],
      "metadata": {
        "execution": {
          "iopub.status.busy": "2023-04-06T07:23:29.691728Z",
          "iopub.execute_input": "2023-04-06T07:23:29.692139Z",
          "iopub.status.idle": "2023-04-06T07:23:31.568168Z",
          "shell.execute_reply.started": "2023-04-06T07:23:29.692048Z",
          "shell.execute_reply": "2023-04-06T07:23:31.566774Z"
        },
        "trusted": true,
        "id": "NMdxafqPoip5"
      },
      "execution_count": null,
      "outputs": []
    },
    {
      "cell_type": "code",
      "source": [
        "df = pd.read_csv(\"../input/crop-production-in-india/crop_production.csv\")\n",
        "df[:5]"
      ],
      "metadata": {
        "execution": {
          "iopub.status.busy": "2023-04-06T07:23:31.571036Z",
          "iopub.execute_input": "2023-04-06T07:23:31.571534Z",
          "iopub.status.idle": "2023-04-06T07:23:32.084687Z",
          "shell.execute_reply.started": "2023-04-06T07:23:31.571454Z",
          "shell.execute_reply": "2023-04-06T07:23:32.082496Z"
        },
        "trusted": true,
        "id": "fkhXuu0joip_"
      },
      "execution_count": null,
      "outputs": []
    },
    {
      "cell_type": "markdown",
      "source": [
        "# Data Exploration"
      ],
      "metadata": {
        "id": "c3RONvZ2oiqC"
      }
    },
    {
      "cell_type": "code",
      "source": [
        "df.isnull().sum()"
      ],
      "metadata": {
        "execution": {
          "iopub.status.busy": "2023-04-06T07:23:32.086611Z",
          "iopub.execute_input": "2023-04-06T07:23:32.086958Z",
          "iopub.status.idle": "2023-04-06T07:23:32.146638Z",
          "shell.execute_reply.started": "2023-04-06T07:23:32.086896Z",
          "shell.execute_reply": "2023-04-06T07:23:32.145493Z"
        },
        "trusted": true,
        "id": "hM-o7ggmoiqG",
        "outputId": "8669d12d-2af0-470f-e2da-0e867fc7b68f"
      },
      "execution_count": null,
      "outputs": [
        {
          "execution_count": 4,
          "output_type": "execute_result",
          "data": {
            "text/plain": "State_Name          0\nDistrict_Name       0\nCrop_Year           0\nSeason              0\nCrop                0\nArea                0\nProduction       3730\ndtype: int64"
          },
          "metadata": {}
        }
      ]
    },
    {
      "cell_type": "code",
      "source": [
        "# Droping Nan Values\n",
        "data = df.dropna()\n",
        "print(data.shape)\n",
        "test = df[~df[\"Production\"].notna()].drop(\"Production\",axis=1)\n",
        "print(test.shape)"
      ],
      "metadata": {
        "execution": {
          "iopub.status.busy": "2023-04-06T07:23:32.148040Z",
          "iopub.execute_input": "2023-04-06T07:23:32.148400Z",
          "iopub.status.idle": "2023-04-06T07:23:32.246283Z",
          "shell.execute_reply.started": "2023-04-06T07:23:32.148336Z",
          "shell.execute_reply": "2023-04-06T07:23:32.245012Z"
        },
        "trusted": true,
        "id": "nAu9UmhVoiqH",
        "outputId": "0b74255c-f885-42e1-f1ac-70b90257fb90"
      },
      "execution_count": null,
      "outputs": [
        {
          "name": "stdout",
          "text": "(242361, 7)\n(3730, 6)\n",
          "output_type": "stream"
        }
      ]
    },
    {
      "cell_type": "code",
      "source": [
        "for i in data.columns:\n",
        "    print(\"column name :\",i)\n",
        "    print(\"No. of column :\",len(data[i].unique()))\n",
        "    print(data[i].unique())"
      ],
      "metadata": {
        "execution": {
          "iopub.status.busy": "2023-04-06T07:23:32.249265Z",
          "iopub.execute_input": "2023-04-06T07:23:32.249764Z",
          "iopub.status.idle": "2023-04-06T07:23:32.409256Z",
          "shell.execute_reply.started": "2023-04-06T07:23:32.249543Z",
          "shell.execute_reply": "2023-04-06T07:23:32.407903Z"
        },
        "trusted": true,
        "id": "u-v_iX8ooiqJ",
        "outputId": "b360e37e-bc7f-454e-e2c8-ebbe0d68e01f"
      },
      "execution_count": null,
      "outputs": [
        {
          "name": "stdout",
          "text": "column name : State_Name\nNo. of column : 33\n['Andaman and Nicobar Islands' 'Andhra Pradesh' 'Arunachal Pradesh'\n 'Assam' 'Bihar' 'Chandigarh' 'Chhattisgarh' 'Dadra and Nagar Haveli'\n 'Goa' 'Gujarat' 'Haryana' 'Himachal Pradesh' 'Jammu and Kashmir '\n 'Jharkhand' 'Karnataka' 'Kerala' 'Madhya Pradesh' 'Maharashtra' 'Manipur'\n 'Meghalaya' 'Mizoram' 'Nagaland' 'Odisha' 'Puducherry' 'Punjab'\n 'Rajasthan' 'Sikkim' 'Tamil Nadu' 'Telangana ' 'Tripura' 'Uttar Pradesh'\n 'Uttarakhand' 'West Bengal']\ncolumn name : District_Name\nNo. of column : 646\n['NICOBARS' 'NORTH AND MIDDLE ANDAMAN' 'SOUTH ANDAMANS' 'ANANTAPUR'\n 'CHITTOOR' 'EAST GODAVARI' 'GUNTUR' 'KADAPA' 'KRISHNA' 'KURNOOL'\n 'PRAKASAM' 'SPSR NELLORE' 'SRIKAKULAM' 'VISAKHAPATANAM' 'VIZIANAGARAM'\n 'WEST GODAVARI' 'ANJAW' 'CHANGLANG' 'DIBANG VALLEY' 'EAST KAMENG'\n 'EAST SIANG' 'KURUNG KUMEY' 'LOHIT' 'LONGDING' 'LOWER DIBANG VALLEY'\n 'LOWER SUBANSIRI' 'NAMSAI' 'PAPUM PARE' 'TAWANG' 'TIRAP' 'UPPER SIANG'\n 'UPPER SUBANSIRI' 'WEST KAMENG' 'WEST SIANG' 'BAKSA' 'BARPETA'\n 'BONGAIGAON' 'CACHAR' 'CHIRANG' 'DARRANG' 'DHEMAJI' 'DHUBRI' 'DIBRUGARH'\n 'DIMA HASAO' 'GOALPARA' 'GOLAGHAT' 'HAILAKANDI' 'JORHAT' 'KAMRUP'\n 'KAMRUP METRO' 'KARBI ANGLONG' 'KARIMGANJ' 'KOKRAJHAR' 'LAKHIMPUR'\n 'MARIGAON' 'NAGAON' 'NALBARI' 'SIVASAGAR' 'SONITPUR' 'TINSUKIA'\n 'UDALGURI' 'ARARIA' 'ARWAL' 'AURANGABAD' 'BANKA' 'BEGUSARAI' 'BHAGALPUR'\n 'BHOJPUR' 'BUXAR' 'DARBHANGA' 'GAYA' 'GOPALGANJ' 'JAMUI' 'JEHANABAD'\n 'KAIMUR (BHABUA)' 'KATIHAR' 'KHAGARIA' 'KISHANGANJ' 'LAKHISARAI'\n 'MADHEPURA' 'MADHUBANI' 'MUNGER' 'MUZAFFARPUR' 'NALANDA' 'NAWADA'\n 'PASHCHIM CHAMPARAN' 'PATNA' 'PURBI CHAMPARAN' 'PURNIA' 'ROHTAS'\n 'SAHARSA' 'SAMASTIPUR' 'SARAN' 'SHEIKHPURA' 'SHEOHAR' 'SITAMARHI' 'SIWAN'\n 'SUPAUL' 'VAISHALI' 'CHANDIGARH' 'BALOD' 'BALODA BAZAR' 'BALRAMPUR'\n 'BASTAR' 'BEMETARA' 'BIJAPUR' 'BILASPUR' 'DANTEWADA' 'DHAMTARI' 'DURG'\n 'GARIYABAND' 'JANJGIR-CHAMPA' 'JASHPUR' 'KABIRDHAM' 'KANKER' 'KONDAGAON'\n 'KORBA' 'KOREA' 'MAHASAMUND' 'MUNGELI' 'NARAYANPUR' 'RAIGARH' 'RAIPUR'\n 'RAJNANDGAON' 'SUKMA' 'SURAJPUR' 'SURGUJA' 'DADRA AND NAGAR HAVELI'\n 'NORTH GOA' 'SOUTH GOA' 'AHMADABAD' 'AMRELI' 'ANAND' 'BANAS KANTHA'\n 'BHARUCH' 'BHAVNAGAR' 'DANG' 'DOHAD' 'GANDHINAGAR' 'JAMNAGAR' 'JUNAGADH'\n 'KACHCHH' 'KHEDA' 'MAHESANA' 'NARMADA' 'NAVSARI' 'PANCH MAHALS' 'PATAN'\n 'PORBANDAR' 'RAJKOT' 'SABAR KANTHA' 'SURAT' 'SURENDRANAGAR' 'TAPI'\n 'VADODARA' 'VALSAD' 'AMBALA' 'BHIWANI' 'FARIDABAD' 'FATEHABAD' 'GURGAON'\n 'HISAR' 'JHAJJAR' 'JIND' 'KAITHAL' 'KARNAL' 'KURUKSHETRA' 'MAHENDRAGARH'\n 'MEWAT' 'PALWAL' 'PANCHKULA' 'PANIPAT' 'REWARI' 'ROHTAK' 'SIRSA'\n 'SONIPAT' 'YAMUNANAGAR' 'CHAMBA' 'HAMIRPUR' 'KANGRA' 'KINNAUR' 'KULLU'\n 'LAHUL AND SPITI' 'MANDI' 'SHIMLA' 'SIRMAUR' 'SOLAN' 'UNA' 'ANANTNAG'\n 'BADGAM' 'BANDIPORA' 'BARAMULLA' 'DODA' 'GANDERBAL' 'JAMMU' 'KARGIL'\n 'KATHUA' 'KISHTWAR' 'KULGAM' 'KUPWARA' 'LEH LADAKH' 'POONCH' 'PULWAMA'\n 'RAJAURI' 'RAMBAN' 'REASI' 'SAMBA' 'SHOPIAN' 'SRINAGAR' 'UDHAMPUR'\n 'BOKARO' 'CHATRA' 'DEOGHAR' 'DHANBAD' 'DUMKA' 'EAST SINGHBUM' 'GARHWA'\n 'GIRIDIH' 'GODDA' 'GUMLA' 'HAZARIBAGH' 'JAMTARA' 'KHUNTI' 'KODERMA'\n 'LATEHAR' 'LOHARDAGA' 'PAKUR' 'PALAMU' 'RAMGARH' 'RANCHI' 'SAHEBGANJ'\n 'SARAIKELA KHARSAWAN' 'SIMDEGA' 'WEST SINGHBHUM' 'BAGALKOT'\n 'BANGALORE RURAL' 'BELGAUM' 'BELLARY' 'BENGALURU URBAN' 'BIDAR'\n 'CHAMARAJANAGAR' 'CHIKBALLAPUR' 'CHIKMAGALUR' 'CHITRADURGA'\n 'DAKSHIN KANNAD' 'DAVANGERE' 'DHARWAD' 'GADAG' 'GULBARGA' 'HASSAN'\n 'HAVERI' 'KODAGU' 'KOLAR' 'KOPPAL' 'MANDYA' 'MYSORE' 'RAICHUR'\n 'RAMANAGARA' 'SHIMOGA' 'TUMKUR' 'UDUPI' 'UTTAR KANNAD' 'YADGIR'\n 'ALAPPUZHA' 'ERNAKULAM' 'IDUKKI' 'KANNUR' 'KASARAGOD' 'KOLLAM' 'KOTTAYAM'\n 'KOZHIKODE' 'MALAPPURAM' 'PALAKKAD' 'PATHANAMTHITTA' 'THIRUVANANTHAPURAM'\n 'THRISSUR' 'WAYANAD' 'AGAR MALWA' 'ALIRAJPUR' 'ANUPPUR' 'ASHOKNAGAR'\n 'BALAGHAT' 'BARWANI' 'BETUL' 'BHIND' 'BHOPAL' 'BURHANPUR' 'CHHATARPUR'\n 'CHHINDWARA' 'DAMOH' 'DATIA' 'DEWAS' 'DHAR' 'DINDORI' 'GUNA' 'GWALIOR'\n 'HARDA' 'HOSHANGABAD' 'INDORE' 'JABALPUR' 'JHABUA' 'KATNI' 'KHANDWA'\n 'KHARGONE' 'MANDLA' 'MANDSAUR' 'MORENA' 'NARSINGHPUR' 'NEEMUCH' 'PANNA'\n 'RAISEN' 'RAJGARH' 'RATLAM' 'REWA' 'SAGAR' 'SATNA' 'SEHORE' 'SEONI'\n 'SHAHDOL' 'SHAJAPUR' 'SHEOPUR' 'SHIVPURI' 'SIDHI' 'SINGRAULI' 'TIKAMGARH'\n 'UJJAIN' 'UMARIA' 'VIDISHA' 'AHMEDNAGAR' 'AKOLA' 'AMRAVATI' 'BEED'\n 'BHANDARA' 'BULDHANA' 'CHANDRAPUR' 'DHULE' 'GADCHIROLI' 'GONDIA'\n 'HINGOLI' 'JALGAON' 'JALNA' 'KOLHAPUR' 'LATUR' 'MUMBAI' 'NAGPUR' 'NANDED'\n 'NANDURBAR' 'NASHIK' 'OSMANABAD' 'PALGHAR' 'PARBHANI' 'PUNE' 'RAIGAD'\n 'RATNAGIRI' 'SANGLI' 'SATARA' 'SINDHUDURG' 'SOLAPUR' 'THANE' 'WARDHA'\n 'WASHIM' 'YAVATMAL' 'BISHNUPUR' 'CHANDEL' 'CHURACHANDPUR' 'IMPHAL EAST'\n 'IMPHAL WEST' 'SENAPATI' 'TAMENGLONG' 'THOUBAL' 'UKHRUL'\n 'EAST GARO HILLS' 'EAST JAINTIA HILLS' 'EAST KHASI HILLS'\n 'NORTH GARO HILLS' 'RI BHOI' 'SOUTH GARO HILLS' 'SOUTH WEST GARO HILLS'\n 'SOUTH WEST KHASI HILLS' 'WEST GARO HILLS' 'WEST JAINTIA HILLS'\n 'WEST KHASI HILLS' 'AIZAWL' 'CHAMPHAI' 'KOLASIB' 'LAWNGTLAI' 'LUNGLEI'\n 'MAMIT' 'SAIHA' 'SERCHHIP' 'DIMAPUR' 'KIPHIRE' 'KOHIMA' 'LONGLENG'\n 'MOKOKCHUNG' 'MON' 'PEREN' 'PHEK' 'TUENSANG' 'WOKHA' 'ZUNHEBOTO' 'ANUGUL'\n 'BALANGIR' 'BALESHWAR' 'BARGARH' 'BHADRAK' 'BOUDH' 'CUTTACK' 'DEOGARH'\n 'DHENKANAL' 'GAJAPATI' 'GANJAM' 'JAGATSINGHAPUR' 'JAJAPUR' 'JHARSUGUDA'\n 'KALAHANDI' 'KANDHAMAL' 'KENDRAPARA' 'KENDUJHAR' 'KHORDHA' 'KORAPUT'\n 'MALKANGIRI' 'MAYURBHANJ' 'NABARANGPUR' 'NAYAGARH' 'NUAPADA' 'PURI'\n 'RAYAGADA' 'SAMBALPUR' 'SONEPUR' 'SUNDARGARH' 'KARAIKAL' 'MAHE'\n 'PONDICHERRY' 'YANAM' 'AMRITSAR' 'BARNALA' 'BATHINDA' 'FARIDKOT'\n 'FATEHGARH SAHIB' 'FAZILKA' 'FIROZEPUR' 'GURDASPUR' 'HOSHIARPUR'\n 'JALANDHAR' 'KAPURTHALA' 'LUDHIANA' 'MANSA' 'MOGA' 'MUKTSAR' 'NAWANSHAHR'\n 'PATHANKOT' 'PATIALA' 'RUPNAGAR' 'S.A.S NAGAR' 'SANGRUR' 'TARN TARAN'\n 'AJMER' 'ALWAR' 'BANSWARA' 'BARAN' 'BARMER' 'BHARATPUR' 'BHILWARA'\n 'BIKANER' 'BUNDI' 'CHITTORGARH' 'CHURU' 'DAUSA' 'DHOLPUR' 'DUNGARPUR'\n 'GANGANAGAR' 'HANUMANGARH' 'JAIPUR' 'JAISALMER' 'JALORE' 'JHALAWAR'\n 'JHUNJHUNU' 'JODHPUR' 'KARAULI' 'KOTA' 'NAGAUR' 'PALI' 'PRATAPGARH'\n 'RAJSAMAND' 'SAWAI MADHOPUR' 'SIKAR' 'SIROHI' 'TONK' 'UDAIPUR'\n 'EAST DISTRICT' 'NORTH DISTRICT' 'SOUTH DISTRICT' 'WEST DISTRICT'\n 'ARIYALUR' 'COIMBATORE' 'CUDDALORE' 'DHARMAPURI' 'DINDIGUL' 'ERODE'\n 'KANCHIPURAM' 'KANNIYAKUMARI' 'KARUR' 'KRISHNAGIRI' 'MADURAI'\n 'NAGAPATTINAM' 'NAMAKKAL' 'PERAMBALUR' 'PUDUKKOTTAI' 'RAMANATHAPURAM'\n 'SALEM' 'SIVAGANGA' 'THANJAVUR' 'THE NILGIRIS' 'THENI' 'THIRUVALLUR'\n 'THIRUVARUR' 'TIRUCHIRAPPALLI' 'TIRUNELVELI' 'TIRUPPUR' 'TIRUVANNAMALAI'\n 'TUTICORIN' 'VELLORE' 'VILLUPURAM' 'VIRUDHUNAGAR' 'ADILABAD' 'HYDERABAD'\n 'KARIMNAGAR' 'KHAMMAM' 'MAHBUBNAGAR' 'MEDAK' 'NALGONDA' 'NIZAMABAD'\n 'RANGAREDDI' 'WARANGAL' 'DHALAI' 'GOMATI' 'KHOWAI' 'NORTH TRIPURA'\n 'SEPAHIJALA' 'SOUTH TRIPURA' 'UNAKOTI' 'WEST TRIPURA' 'AGRA' 'ALIGARH'\n 'ALLAHABAD' 'AMBEDKAR NAGAR' 'AMETHI' 'AMROHA' 'AURAIYA' 'AZAMGARH'\n 'BAGHPAT' 'BAHRAICH' 'BALLIA' 'BANDA' 'BARABANKI' 'BAREILLY' 'BASTI'\n 'BIJNOR' 'BUDAUN' 'BULANDSHAHR' 'CHANDAULI' 'CHITRAKOOT' 'DEORIA' 'ETAH'\n 'ETAWAH' 'FAIZABAD' 'FARRUKHABAD' 'FATEHPUR' 'FIROZABAD'\n 'GAUTAM BUDDHA NAGAR' 'GHAZIABAD' 'GHAZIPUR' 'GONDA' 'GORAKHPUR' 'HAPUR'\n 'HARDOI' 'HATHRAS' 'JALAUN' 'JAUNPUR' 'JHANSI' 'KANNAUJ' 'KANPUR DEHAT'\n 'KANPUR NAGAR' 'KASGANJ' 'KAUSHAMBI' 'KHERI' 'KUSHI NAGAR' 'LALITPUR'\n 'LUCKNOW' 'MAHARAJGANJ' 'MAHOBA' 'MAINPURI' 'MATHURA' 'MAU' 'MEERUT'\n 'MIRZAPUR' 'MORADABAD' 'MUZAFFARNAGAR' 'PILIBHIT' 'RAE BARELI' 'RAMPUR'\n 'SAHARANPUR' 'SAMBHAL' 'SANT KABEER NAGAR' 'SANT RAVIDAS NAGAR'\n 'SHAHJAHANPUR' 'SHAMLI' 'SHRAVASTI' 'SIDDHARTH NAGAR' 'SITAPUR'\n 'SONBHADRA' 'SULTANPUR' 'UNNAO' 'VARANASI' 'ALMORA' 'BAGESHWAR' 'CHAMOLI'\n 'CHAMPAWAT' 'DEHRADUN' 'HARIDWAR' 'NAINITAL' 'PAURI GARHWAL'\n 'PITHORAGARH' 'RUDRA PRAYAG' 'TEHRI GARHWAL' 'UDAM SINGH NAGAR'\n 'UTTAR KASHI' '24 PARAGANAS NORTH' '24 PARAGANAS SOUTH' 'BANKURA'\n 'BARDHAMAN' 'BIRBHUM' 'COOCHBEHAR' 'DARJEELING' 'DINAJPUR DAKSHIN'\n 'DINAJPUR UTTAR' 'HOOGHLY' 'HOWRAH' 'JALPAIGURI' 'MALDAH'\n 'MEDINIPUR EAST' 'MEDINIPUR WEST' 'MURSHIDABAD' 'NADIA' 'PURULIA']\ncolumn name : Crop_Year\nNo. of column : 19\n[2000 2001 2002 2003 2004 2005 2006 2010 1997 1998 1999 2007 2008 2009\n 2011 2012 2013 2014 2015]\ncolumn name : Season\nNo. of column : 6\n['Kharif     ' 'Whole Year ' 'Autumn     ' 'Rabi       ' 'Summer     '\n 'Winter     ']\ncolumn name : Crop\nNo. of column : 124\n['Arecanut' 'Other Kharif pulses' 'Rice' 'Banana' 'Cashewnut' 'Coconut '\n 'Dry ginger' 'Sugarcane' 'Sweet potato' 'Tapioca' 'Black pepper'\n 'Dry chillies' 'other oilseeds' 'Turmeric' 'Maize' 'Moong(Green Gram)'\n 'Urad' 'Arhar/Tur' 'Groundnut' 'Sunflower' 'Bajra' 'Castor seed'\n 'Cotton(lint)' 'Horse-gram' 'Jowar' 'Korra' 'Ragi' 'Tobacco' 'Gram'\n 'Wheat' 'Masoor' 'Sesamum' 'Linseed' 'Safflower' 'Onion'\n 'other misc. pulses' 'Samai' 'Small millets' 'Coriander' 'Potato'\n 'Other  Rabi pulses' 'Soyabean' 'Beans & Mutter(Vegetable)' 'Bhindi'\n 'Brinjal' 'Citrus Fruit' 'Cucumber' 'Grapes' 'Mango' 'Orange'\n 'other fibres' 'Other Fresh Fruits' 'Other Vegetables' 'Papaya'\n 'Pome Fruit' 'Tomato' 'Mesta' 'Cowpea(Lobia)' 'Lemon' 'Pome Granet'\n 'Sapota' 'Cabbage' 'Rapeseed &Mustard' 'Peas  (vegetable)' 'Niger seed'\n 'Bottle Gourd' 'Varagu' 'Garlic' 'Ginger' 'Oilseeds total' 'Pulses total'\n 'Jute' 'Peas & beans (Pulses)' 'Blackgram' 'Paddy' 'Pineapple' 'Barley'\n 'Sannhamp' 'Khesari' 'Guar seed' 'Moth' 'Other Cereals & Millets'\n 'Cond-spcs other' 'Turnip' 'Carrot' 'Redish' 'Arcanut (Processed)'\n 'Atcanut (Raw)' 'Cashewnut Processed' 'Cashewnut Raw' 'Cardamom' 'Rubber'\n 'Bitter Gourd' 'Drum Stick' 'Jack Fruit' 'Snak Guard' 'Tea' 'Coffee'\n 'Cauliflower' 'Other Citrus Fruit' 'Water Melon' 'Total foodgrain'\n 'Kapas' 'Colocosia' 'Lentil' 'Bean' 'Jobster' 'Perilla' 'Rajmash Kholar'\n 'Ricebean (nagadal)' 'Ash Gourd' 'Beet Root' 'Lab-Lab' 'Ribed Guard'\n 'Yam' 'Pump Kin' 'Apple' 'Peach' 'Pear' 'Plums' 'Litchi' 'Ber'\n 'Other Dry Fruit' 'Jute & mesta']\ncolumn name : Area\nNo. of column : 38391\n[1.25400e+03 2.00000e+00 1.02000e+02 ... 3.02274e+05 1.14930e+04\n 2.79151e+05]\ncolumn name : Production\nNo. of column : 51627\n[2.00000e+03 1.00000e+00 3.21000e+02 ... 7.29553e+05 7.30136e+05\n 5.97899e+05]\n",
          "output_type": "stream"
        }
      ]
    },
    {
      "cell_type": "code",
      "source": [
        "sum_maxp = data[\"Production\"].sum()\n",
        "data[\"percent_of_production\"] = data[\"Production\"].map(lambda x:(x/sum_maxp)*100)"
      ],
      "metadata": {
        "execution": {
          "iopub.status.busy": "2023-04-06T07:23:32.413271Z",
          "iopub.execute_input": "2023-04-06T07:23:32.413722Z",
          "iopub.status.idle": "2023-04-06T07:23:32.627639Z",
          "shell.execute_reply.started": "2023-04-06T07:23:32.413637Z",
          "shell.execute_reply": "2023-04-06T07:23:32.626076Z"
        },
        "trusted": true,
        "id": "m0Tkw0v-oiqK",
        "outputId": "9747903a-6e03-4fce-bf33-0950eb795a5f"
      },
      "execution_count": null,
      "outputs": [
        {
          "name": "stderr",
          "text": "/opt/conda/lib/python3.6/site-packages/ipykernel_launcher.py:2: SettingWithCopyWarning: \nA value is trying to be set on a copy of a slice from a DataFrame.\nTry using .loc[row_indexer,col_indexer] = value instead\n\nSee the caveats in the documentation: http://pandas.pydata.org/pandas-docs/stable/user_guide/indexing.html#returning-a-view-versus-a-copy\n  \n",
          "output_type": "stream"
        }
      ]
    },
    {
      "cell_type": "code",
      "source": [
        "data[:5]"
      ],
      "metadata": {
        "execution": {
          "iopub.status.busy": "2023-04-06T07:23:32.629092Z",
          "iopub.execute_input": "2023-04-06T07:23:32.629489Z",
          "iopub.status.idle": "2023-04-06T07:23:32.650731Z",
          "shell.execute_reply.started": "2023-04-06T07:23:32.629415Z",
          "shell.execute_reply": "2023-04-06T07:23:32.649357Z"
        },
        "trusted": true,
        "id": "gLxH7MX6oiqL",
        "outputId": "78771463-10ee-411d-e0c2-080087aa7be1"
      },
      "execution_count": null,
      "outputs": [
        {
          "execution_count": 8,
          "output_type": "execute_result",
          "data": {
            "text/plain": "                    State_Name District_Name  Crop_Year       Season  \\\n0  Andaman and Nicobar Islands      NICOBARS       2000  Kharif        \n1  Andaman and Nicobar Islands      NICOBARS       2000  Kharif        \n2  Andaman and Nicobar Islands      NICOBARS       2000  Kharif        \n3  Andaman and Nicobar Islands      NICOBARS       2000  Whole Year    \n4  Andaman and Nicobar Islands      NICOBARS       2000  Whole Year    \n\n                  Crop    Area  Production  percent_of_production  \n0             Arecanut  1254.0      2000.0           1.416670e-06  \n1  Other Kharif pulses     2.0         1.0           7.083351e-10  \n2                 Rice   102.0       321.0           2.273756e-07  \n3               Banana   176.0       641.0           4.540428e-07  \n4            Cashewnut   720.0       165.0           1.168753e-07  ",
            "text/html": "<div>\n<style scoped>\n    .dataframe tbody tr th:only-of-type {\n        vertical-align: middle;\n    }\n\n    .dataframe tbody tr th {\n        vertical-align: top;\n    }\n\n    .dataframe thead th {\n        text-align: right;\n    }\n</style>\n<table border=\"1\" class=\"dataframe\">\n  <thead>\n    <tr style=\"text-align: right;\">\n      <th></th>\n      <th>State_Name</th>\n      <th>District_Name</th>\n      <th>Crop_Year</th>\n      <th>Season</th>\n      <th>Crop</th>\n      <th>Area</th>\n      <th>Production</th>\n      <th>percent_of_production</th>\n    </tr>\n  </thead>\n  <tbody>\n    <tr>\n      <th>0</th>\n      <td>Andaman and Nicobar Islands</td>\n      <td>NICOBARS</td>\n      <td>2000</td>\n      <td>Kharif</td>\n      <td>Arecanut</td>\n      <td>1254.0</td>\n      <td>2000.0</td>\n      <td>1.416670e-06</td>\n    </tr>\n    <tr>\n      <th>1</th>\n      <td>Andaman and Nicobar Islands</td>\n      <td>NICOBARS</td>\n      <td>2000</td>\n      <td>Kharif</td>\n      <td>Other Kharif pulses</td>\n      <td>2.0</td>\n      <td>1.0</td>\n      <td>7.083351e-10</td>\n    </tr>\n    <tr>\n      <th>2</th>\n      <td>Andaman and Nicobar Islands</td>\n      <td>NICOBARS</td>\n      <td>2000</td>\n      <td>Kharif</td>\n      <td>Rice</td>\n      <td>102.0</td>\n      <td>321.0</td>\n      <td>2.273756e-07</td>\n    </tr>\n    <tr>\n      <th>3</th>\n      <td>Andaman and Nicobar Islands</td>\n      <td>NICOBARS</td>\n      <td>2000</td>\n      <td>Whole Year</td>\n      <td>Banana</td>\n      <td>176.0</td>\n      <td>641.0</td>\n      <td>4.540428e-07</td>\n    </tr>\n    <tr>\n      <th>4</th>\n      <td>Andaman and Nicobar Islands</td>\n      <td>NICOBARS</td>\n      <td>2000</td>\n      <td>Whole Year</td>\n      <td>Cashewnut</td>\n      <td>720.0</td>\n      <td>165.0</td>\n      <td>1.168753e-07</td>\n    </tr>\n  </tbody>\n</table>\n</div>"
          },
          "metadata": {}
        }
      ]
    },
    {
      "cell_type": "markdown",
      "source": [
        "sns.lineplot(data[\"Crop_Year\"],data[\"Production\"])"
      ],
      "metadata": {
        "id": "2-S1UvFFoiqM"
      }
    },
    {
      "cell_type": "markdown",
      "source": [
        "# Feature Selection"
      ],
      "metadata": {
        "id": "W6wu6v_joiqo"
      }
    },
    {
      "cell_type": "code",
      "source": [
        "data1 = data.drop([\"District_Name\",\"Crop_Year\"],axis=1)"
      ],
      "metadata": {
        "execution": {
          "iopub.status.busy": "2023-04-06T07:25:11.823103Z",
          "iopub.execute_input": "2023-04-06T07:25:11.823721Z",
          "iopub.status.idle": "2023-04-06T07:25:11.844996Z",
          "shell.execute_reply.started": "2023-04-06T07:25:11.823651Z",
          "shell.execute_reply": "2023-04-06T07:25:11.844190Z"
        },
        "trusted": true,
        "id": "wg_wDa8voiqo"
      },
      "execution_count": null,
      "outputs": []
    },
    {
      "cell_type": "code",
      "source": [
        "data_dum = pd.get_dummies(data1)\n",
        "data_dum[:5]"
      ],
      "metadata": {
        "execution": {
          "iopub.status.busy": "2023-04-06T07:25:11.846416Z",
          "iopub.execute_input": "2023-04-06T07:25:11.846981Z",
          "iopub.status.idle": "2023-04-06T07:25:12.273176Z",
          "shell.execute_reply.started": "2023-04-06T07:25:11.846915Z",
          "shell.execute_reply": "2023-04-06T07:25:12.271889Z"
        },
        "trusted": true,
        "id": "xhP4bZfGoiqp"
      },
      "execution_count": null,
      "outputs": []
    },
    {
      "cell_type": "markdown",
      "source": [
        "# Test Train Split"
      ],
      "metadata": {
        "id": "UG-lYlIVoiqp"
      }
    },
    {
      "cell_type": "code",
      "source": [
        "x = data_dum.drop(\"Production\",axis=1)\n",
        "y = data_dum[[\"Production\"]]\n",
        "from sklearn.model_selection import train_test_split\n",
        "x_train,x_test,y_train,y_test = train_test_split(x,y,test_size=0.33, random_state=42)\n",
        "print(\"x_train :\",x_train.shape)\n",
        "print(\"x_test :\",x_test.shape)\n",
        "print(\"y_train :\",y_train.shape)\n",
        "print(\"y_test :\",y_test.shape)\n"
      ],
      "metadata": {
        "execution": {
          "iopub.status.busy": "2023-04-06T07:25:12.274928Z",
          "iopub.execute_input": "2023-04-06T07:25:12.275336Z",
          "iopub.status.idle": "2023-04-06T07:25:14.142987Z",
          "shell.execute_reply.started": "2023-04-06T07:25:12.275272Z",
          "shell.execute_reply": "2023-04-06T07:25:14.141884Z"
        },
        "trusted": true,
        "id": "gwq4riUVoiqq",
        "outputId": "80ca70a9-ab19-4a9b-cccc-bedaf2e9c554"
      },
      "execution_count": null,
      "outputs": [
        {
          "name": "stdout",
          "text": "x_train : (162381, 165)\nx_test : (79980, 165)\ny_train : (162381, 1)\ny_test : (79980, 1)\n",
          "output_type": "stream"
        }
      ]
    },
    {
      "cell_type": "code",
      "source": [
        "x_train[:5]"
      ],
      "metadata": {
        "execution": {
          "iopub.status.busy": "2023-04-06T07:25:14.145561Z",
          "iopub.execute_input": "2023-04-06T07:25:14.146220Z",
          "iopub.status.idle": "2023-04-06T07:25:14.181165Z",
          "shell.execute_reply.started": "2023-04-06T07:25:14.146150Z",
          "shell.execute_reply": "2023-04-06T07:25:14.180096Z"
        },
        "trusted": true,
        "id": "jtVaNk3noiqr"
      },
      "execution_count": null,
      "outputs": []
    },
    {
      "cell_type": "markdown",
      "source": [
        "# Model -1: Random Forest"
      ],
      "metadata": {
        "id": "NTJ8-HGBoiqr"
      }
    },
    {
      "cell_type": "code",
      "source": [
        "from sklearn.ensemble import RandomForestRegressor\n",
        "model = RandomForestRegressor()\n",
        "model.fit(x_train,y_train)\n",
        "preds = model.predict(x_test)"
      ],
      "metadata": {
        "execution": {
          "iopub.status.busy": "2023-04-06T07:25:14.182609Z",
          "iopub.execute_input": "2023-04-06T07:25:14.182934Z",
          "iopub.status.idle": "2023-04-06T07:26:19.377712Z",
          "shell.execute_reply.started": "2023-04-06T07:25:14.182875Z",
          "shell.execute_reply": "2023-04-06T07:26:19.376336Z"
        },
        "trusted": true,
        "id": "pN_Sa6Jxoiqr"
      },
      "execution_count": null,
      "outputs": []
    },
    {
      "cell_type": "code",
      "source": [
        "from sklearn.metrics import r2_score\n",
        "r = r2_score(y_test,preds)\n",
        "print(\"R2score when we predict using Randomn forest is \",r)"
      ],
      "metadata": {
        "execution": {
          "iopub.status.busy": "2023-04-06T07:26:19.379808Z",
          "iopub.execute_input": "2023-04-06T07:26:19.380790Z",
          "iopub.status.idle": "2023-04-06T07:26:19.389860Z",
          "shell.execute_reply.started": "2023-04-06T07:26:19.380707Z",
          "shell.execute_reply": "2023-04-06T07:26:19.388751Z"
        },
        "trusted": true,
        "id": "R-yPZt1poiqs",
        "outputId": "7ecb4d7a-561e-45f6-d7ef-3e84f72f5446"
      },
      "execution_count": null,
      "outputs": [
        {
          "name": "stdout",
          "text": "R2score when we predict using Randomn forest is  0.9987902543248588\n",
          "output_type": "stream"
        }
      ]
    },
    {
      "cell_type": "markdown",
      "source": [
        "# Model -2 : Linear Regression"
      ],
      "metadata": {
        "id": "WXxvuQS7oiqs"
      }
    },
    {
      "cell_type": "code",
      "source": [
        "from sklearn.linear_model import LinearRegression\n",
        "model = LinearRegression()\n",
        "model.fit(x_train,y_train)"
      ],
      "metadata": {
        "execution": {
          "iopub.status.busy": "2023-04-06T07:26:19.391686Z",
          "iopub.execute_input": "2023-04-06T07:26:19.392182Z",
          "iopub.status.idle": "2023-04-06T07:26:21.381333Z",
          "shell.execute_reply.started": "2023-04-06T07:26:19.391964Z",
          "shell.execute_reply": "2023-04-06T07:26:21.380125Z"
        },
        "trusted": true,
        "id": "wUkvNROaoiqt",
        "outputId": "35fc3cec-54a0-432e-9e0f-2f4015c1def3"
      },
      "execution_count": null,
      "outputs": [
        {
          "execution_count": 43,
          "output_type": "execute_result",
          "data": {
            "text/plain": "LinearRegression(copy_X=True, fit_intercept=True, n_jobs=None, normalize=False)"
          },
          "metadata": {}
        }
      ]
    },
    {
      "cell_type": "code",
      "source": [
        "preds = model.predict(x_test)"
      ],
      "metadata": {
        "execution": {
          "iopub.status.busy": "2023-04-06T07:26:21.383314Z",
          "iopub.execute_input": "2023-04-06T07:26:21.384197Z",
          "iopub.status.idle": "2023-04-06T07:26:21.461652Z",
          "shell.execute_reply.started": "2023-04-06T07:26:21.384098Z",
          "shell.execute_reply": "2023-04-06T07:26:21.460526Z"
        },
        "trusted": true,
        "id": "6R6xFcsMoiqt"
      },
      "execution_count": null,
      "outputs": []
    },
    {
      "cell_type": "code",
      "source": [
        "from sklearn.metrics import mean_squared_error, r2_score\n",
        "mean_squared_error(y_test,preds)\n",
        "r2_score(y_test,preds)"
      ],
      "metadata": {
        "execution": {
          "iopub.status.busy": "2023-04-06T07:26:21.463817Z",
          "iopub.execute_input": "2023-04-06T07:26:21.464697Z",
          "iopub.status.idle": "2023-04-06T07:26:21.481645Z",
          "shell.execute_reply.started": "2023-04-06T07:26:21.464616Z",
          "shell.execute_reply": "2023-04-06T07:26:21.480220Z"
        },
        "trusted": true,
        "id": "3Qti7FfKoiqu"
      },
      "execution_count": null,
      "outputs": []
    },
    {
      "cell_type": "markdown",
      "source": [
        "# Prediction\n",
        "Model 1: Randomn forest has high r2score when compare to other model"
      ],
      "metadata": {
        "id": "uqt9w8kqoiqu"
      }
    },
    {
      "cell_type": "code",
      "source": [
        "tst = test.drop([\"District_Name\",\"Crop_Year\"],axis=1)\n",
        "tst_dum = pd.get_dummies(tst)\n",
        "tst_dum[:5]"
      ],
      "metadata": {
        "execution": {
          "iopub.status.busy": "2023-04-06T07:26:21.483793Z",
          "iopub.execute_input": "2023-04-06T07:26:21.484695Z",
          "iopub.status.idle": "2023-04-06T07:26:21.555837Z",
          "shell.execute_reply.started": "2023-04-06T07:26:21.484612Z",
          "shell.execute_reply": "2023-04-06T07:26:21.554701Z"
        },
        "trusted": true,
        "id": "Y6uy7oF4oiqv",
        "outputId": "51316332-8298-4562-c581-990ea6b0a1cb"
      },
      "execution_count": null,
      "outputs": [
        {
          "execution_count": 46,
          "output_type": "execute_result",
          "data": {
            "text/plain": "        Area  State_Name_Andaman and Nicobar Islands  \\\n46    795.67                                       1   \n51     17.00                                       1   \n623  1000.00                                       0   \n630  1000.00                                       0   \n698     8.00                                       0   \n\n     State_Name_Andhra Pradesh  State_Name_Arunachal Pradesh  \\\n46                           0                             0   \n51                           0                             0   \n623                          1                             0   \n630                          1                             0   \n698                          1                             0   \n\n     State_Name_Assam  State_Name_Bihar  State_Name_Chandigarh  \\\n46                  0                 0                      0   \n51                  0                 0                      0   \n623                 0                 0                      0   \n630                 0                 0                      0   \n698                 0                 0                      0   \n\n     State_Name_Chhattisgarh  State_Name_Goa  State_Name_Gujarat  ...  \\\n46                         0               0                   0  ...   \n51                         0               0                   0  ...   \n623                        0               0                   0  ...   \n630                        0               0                   0  ...   \n698                        0               0                   0  ...   \n\n     Crop_Soyabean  Crop_Sugarcane  Crop_Sunflower  Crop_Sweet potato  \\\n46               0               0               0                  0   \n51               0               0               0                  0   \n623              0               0               0                  0   \n630              0               0               0                  0   \n698              0               0               0                  0   \n\n     Crop_Tapioca  Crop_Tobacco  Crop_Turmeric  Crop_Urad  Crop_Wheat  \\\n46              0             0              0          0           0   \n51              0             0              0          0           0   \n623             0             0              0          0           0   \n630             0             0              0          0           0   \n698             0             0              0          0           0   \n\n     Crop_other oilseeds  \n46                     0  \n51                     0  \n623                    0  \n630                    0  \n698                    0  \n\n[5 rows x 92 columns]",
            "text/html": "<div>\n<style scoped>\n    .dataframe tbody tr th:only-of-type {\n        vertical-align: middle;\n    }\n\n    .dataframe tbody tr th {\n        vertical-align: top;\n    }\n\n    .dataframe thead th {\n        text-align: right;\n    }\n</style>\n<table border=\"1\" class=\"dataframe\">\n  <thead>\n    <tr style=\"text-align: right;\">\n      <th></th>\n      <th>Area</th>\n      <th>State_Name_Andaman and Nicobar Islands</th>\n      <th>State_Name_Andhra Pradesh</th>\n      <th>State_Name_Arunachal Pradesh</th>\n      <th>State_Name_Assam</th>\n      <th>State_Name_Bihar</th>\n      <th>State_Name_Chandigarh</th>\n      <th>State_Name_Chhattisgarh</th>\n      <th>State_Name_Goa</th>\n      <th>State_Name_Gujarat</th>\n      <th>...</th>\n      <th>Crop_Soyabean</th>\n      <th>Crop_Sugarcane</th>\n      <th>Crop_Sunflower</th>\n      <th>Crop_Sweet potato</th>\n      <th>Crop_Tapioca</th>\n      <th>Crop_Tobacco</th>\n      <th>Crop_Turmeric</th>\n      <th>Crop_Urad</th>\n      <th>Crop_Wheat</th>\n      <th>Crop_other oilseeds</th>\n    </tr>\n  </thead>\n  <tbody>\n    <tr>\n      <th>46</th>\n      <td>795.67</td>\n      <td>1</td>\n      <td>0</td>\n      <td>0</td>\n      <td>0</td>\n      <td>0</td>\n      <td>0</td>\n      <td>0</td>\n      <td>0</td>\n      <td>0</td>\n      <td>...</td>\n      <td>0</td>\n      <td>0</td>\n      <td>0</td>\n      <td>0</td>\n      <td>0</td>\n      <td>0</td>\n      <td>0</td>\n      <td>0</td>\n      <td>0</td>\n      <td>0</td>\n    </tr>\n    <tr>\n      <th>51</th>\n      <td>17.00</td>\n      <td>1</td>\n      <td>0</td>\n      <td>0</td>\n      <td>0</td>\n      <td>0</td>\n      <td>0</td>\n      <td>0</td>\n      <td>0</td>\n      <td>0</td>\n      <td>...</td>\n      <td>0</td>\n      <td>0</td>\n      <td>0</td>\n      <td>0</td>\n      <td>0</td>\n      <td>0</td>\n      <td>0</td>\n      <td>0</td>\n      <td>0</td>\n      <td>0</td>\n    </tr>\n    <tr>\n      <th>623</th>\n      <td>1000.00</td>\n      <td>0</td>\n      <td>1</td>\n      <td>0</td>\n      <td>0</td>\n      <td>0</td>\n      <td>0</td>\n      <td>0</td>\n      <td>0</td>\n      <td>0</td>\n      <td>...</td>\n      <td>0</td>\n      <td>0</td>\n      <td>0</td>\n      <td>0</td>\n      <td>0</td>\n      <td>0</td>\n      <td>0</td>\n      <td>0</td>\n      <td>0</td>\n      <td>0</td>\n    </tr>\n    <tr>\n      <th>630</th>\n      <td>1000.00</td>\n      <td>0</td>\n      <td>1</td>\n      <td>0</td>\n      <td>0</td>\n      <td>0</td>\n      <td>0</td>\n      <td>0</td>\n      <td>0</td>\n      <td>0</td>\n      <td>...</td>\n      <td>0</td>\n      <td>0</td>\n      <td>0</td>\n      <td>0</td>\n      <td>0</td>\n      <td>0</td>\n      <td>0</td>\n      <td>0</td>\n      <td>0</td>\n      <td>0</td>\n    </tr>\n    <tr>\n      <th>698</th>\n      <td>8.00</td>\n      <td>0</td>\n      <td>1</td>\n      <td>0</td>\n      <td>0</td>\n      <td>0</td>\n      <td>0</td>\n      <td>0</td>\n      <td>0</td>\n      <td>0</td>\n      <td>...</td>\n      <td>0</td>\n      <td>0</td>\n      <td>0</td>\n      <td>0</td>\n      <td>0</td>\n      <td>0</td>\n      <td>0</td>\n      <td>0</td>\n      <td>0</td>\n      <td>0</td>\n    </tr>\n  </tbody>\n</table>\n<p>5 rows × 92 columns</p>\n</div>"
          },
          "metadata": {}
        }
      ]
    },
    {
      "cell_type": "code",
      "source": [
        "y_test = tst_dum.copy()\n",
        "print(x_train.shape)\n",
        "print(y_test.shape)"
      ],
      "metadata": {
        "execution": {
          "iopub.status.busy": "2023-04-06T07:26:21.557971Z",
          "iopub.execute_input": "2023-04-06T07:26:21.558881Z",
          "iopub.status.idle": "2023-04-06T07:26:21.569511Z",
          "shell.execute_reply.started": "2023-04-06T07:26:21.558793Z",
          "shell.execute_reply": "2023-04-06T07:26:21.568363Z"
        },
        "trusted": true,
        "id": "bYPLucAHoiqv",
        "outputId": "74ed2710-227f-4e77-b5e2-d812b0f94d4c"
      },
      "execution_count": null,
      "outputs": [
        {
          "name": "stdout",
          "text": "(162381, 165)\n(3730, 92)\n",
          "output_type": "stream"
        }
      ]
    },
    {
      "cell_type": "code",
      "source": [
        "def common_member(x_train,x_test):\n",
        "    a_set =  set(x_train.columns.tolist())\n",
        "    b_set =  set(x_test.columns.tolist())\n",
        "    if (a_set & b_set):\n",
        "        return list(a_set & b_set)"
      ],
      "metadata": {
        "execution": {
          "iopub.status.busy": "2023-04-06T07:26:21.571525Z",
          "iopub.execute_input": "2023-04-06T07:26:21.572353Z",
          "iopub.status.idle": "2023-04-06T07:26:21.580206Z",
          "shell.execute_reply.started": "2023-04-06T07:26:21.572277Z",
          "shell.execute_reply": "2023-04-06T07:26:21.579293Z"
        },
        "trusted": true,
        "id": "EQUmzf62oiqv"
      },
      "execution_count": null,
      "outputs": []
    },
    {
      "cell_type": "code",
      "source": [
        "com_fea = common_member(x_train,tst_dum)\n",
        "len(com_fea)"
      ],
      "metadata": {
        "execution": {
          "iopub.status.busy": "2023-04-06T07:26:21.581533Z",
          "iopub.execute_input": "2023-04-06T07:26:21.582077Z",
          "iopub.status.idle": "2023-04-06T07:26:21.594529Z",
          "shell.execute_reply.started": "2023-04-06T07:26:21.582007Z",
          "shell.execute_reply": "2023-04-06T07:26:21.593364Z"
        },
        "trusted": true,
        "id": "aVKZGhkGoiqw",
        "outputId": "0b5e2386-9c8d-4b1e-f774-174eb135063a"
      },
      "execution_count": null,
      "outputs": [
        {
          "execution_count": 49,
          "output_type": "execute_result",
          "data": {
            "text/plain": "92"
          },
          "metadata": {}
        }
      ]
    },
    {
      "cell_type": "code",
      "source": [
        "from sklearn.ensemble import RandomForestRegressor\n",
        "model = RandomForestRegressor()\n",
        "model.fit(x_train[com_fea],y_train)\n",
        "preds = model.predict(y_test[com_fea])"
      ],
      "metadata": {
        "execution": {
          "iopub.status.busy": "2023-04-06T07:26:21.598390Z",
          "iopub.execute_input": "2023-04-06T07:26:21.598755Z"
        },
        "trusted": true,
        "id": "qGfmElGhoiqx",
        "outputId": "aba0c051-4931-438c-bdd4-d24df5ae7b54"
      },
      "execution_count": null,
      "outputs": [
        {
          "name": "stderr",
          "text": "/opt/conda/lib/python3.6/site-packages/sklearn/ensemble/forest.py:245: FutureWarning: The default value of n_estimators will change from 10 in version 0.20 to 100 in 0.22.\n  \"10 in version 0.20 to 100 in 0.22.\", FutureWarning)\n/opt/conda/lib/python3.6/site-packages/ipykernel_launcher.py:3: DataConversionWarning: A column-vector y was passed when a 1d array was expected. Please change the shape of y to (n_samples,), for example using ravel().\n  This is separate from the ipykernel package so we can avoid doing imports until\n",
          "output_type": "stream"
        }
      ]
    },
    {
      "cell_type": "code",
      "source": [
        "preds"
      ],
      "metadata": {
        "trusted": true,
        "id": "MKzp8dUboiqx"
      },
      "execution_count": null,
      "outputs": []
    },
    {
      "cell_type": "code",
      "source": [
        "test[\"production\"] = preds"
      ],
      "metadata": {
        "trusted": true,
        "id": "QglL7ZEgoiqy"
      },
      "execution_count": null,
      "outputs": []
    },
    {
      "cell_type": "code",
      "source": [
        "test[:10]"
      ],
      "metadata": {
        "trusted": true,
        "id": "Hqv3RVYyoiqy"
      },
      "execution_count": null,
      "outputs": []
    }
  ]
}